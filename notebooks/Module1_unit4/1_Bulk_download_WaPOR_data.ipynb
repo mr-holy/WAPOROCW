{
 "cells": [
  {
   "cell_type": "markdown",
   "metadata": {},
   "source": [
    "# Bulk-download WaPOR data \n",
    "\n",
    "In this notebook, we will use local Python module to automate the steps to read dataset metadata, request download url, download raster dataset, pre-process raster dataset using information from metadata (such as conversion factor, unit). *The datasets downloaded by this script will be automatically corrected by conversion factor*.\n",
    "\n",
    "Run the code cell below to import packages and modules needed. You will be asked to provide WaPOR API token (see [Start here](0_Start_here.ipynb) page for how to get API token). The *WaPOR* module will remember your token and save it to the module folder. If you want to use a new API token, you have to delete this file **'modules\\WaPOR\\wapor_api_token.pickle'**"
   ]
  },
  {
   "cell_type": "code",
   "execution_count": 1,
   "metadata": {},
   "outputs": [],
   "source": [
    "import os\n",
    "import glob\n",
    "import sys\n",
    "import shapefile             \n",
    "import matplotlib.pyplot as plt \n",
    "\n",
    "folder=r\"..\\..\\modules\"\n",
    "sys.path.append(folder) #add folder with local modules to system paths\n",
    "import WaPOR #import local module 'WaPOR'"
   ]
  },
  {
   "cell_type": "markdown",
   "metadata": {},
   "source": [
    "## Dataset code\n",
    "\n",
    "The **WaPOR** module contains the functions *download_dekadal*, *download_monthly*, and *download_yearly* that bulk-download WaPOR data for dekadal, monthly, and yearly temporal resolution. To sepecify the data layer to be downloaded, these functions require dataset code, bounding box coordiate, level of data, and starting and ending date of the period. The dataset code for each dataset is available in the table below:\n",
    "\n",
    "| code        | Name          | \n",
    "| :---------: |:-------------:| \n",
    "| LCC | Land Cover Classification      | \n",
    "| PCP      | Precipitation      | \n",
    "| RET      | Reference Evapotranspiration      | \n",
    "| NPP      | Net Primary Production |\n",
    "| AETI      | Actual Evapotranspiration and Interception |   \n",
    "| E | Evaporation      |  \n",
    "| I | Interception      | \n",
    "| T | Transpiration      | \n",
    "| PHE | Phenology      | \n",
    "| GBWP | Gross Biomass Water Productivity      | \n",
    "\n",
    "Use the selected data code instead of **RET** for the **data** parameter value in the code cells below."
   ]
  },
  {
   "cell_type": "markdown",
   "metadata": {},
   "source": [
    "## Example of WaPOR module functions\n",
    "\n",
    "The example code cells below show how the *WaPOR* module was used to bulk-download WaPOR data: dekadal, monthly, and yearly Reference Evapotranspiration of an extent. The extent is defined by the bounding box of the shapefile of Awash basin. The raster data will be collected and pre-processed to the correct unit mm/period (mm/dekad, mm/month, or mm/year respectively), and save in the [output folder](data)\n"
   ]
  },
  {
   "cell_type": "markdown",
   "metadata": {},
   "source": [
    "### Set download extent and output folder\n",
    "\n",
    "Change xmin, ymin, xmax, ymax values to the download extent.\n",
    "If needed, change *output_dir* path to the folder where you want to save data.\n",
    "\n",
    "**Note on syntax**: For the scripts in these notebooks, the endings of most input and output files contain \"_fh\". fh stands for \"file handle\" and refers to a single file. You may also see \"_fhs\", which stands for \"file handle series\". This refers to a series or group of files."
   ]
  },
  {
   "cell_type": "code",
   "execution_count": 2,
   "metadata": {},
   "outputs": [],
   "source": [
    "#define extent to download from a shapefile:\n",
    "shape_fh=r\".\\data\\Awash_shapefile.shp\"\n",
    "shape=shapefile.Reader(shape_fh)\n",
    "xmin,ymin,xmax,ymax=shape.bbox\n",
    "\n",
    "#define extent to download by coordinates:\n",
    "# xmin,ymin,xmax,ymax=(32.65692516077674,-25.16412729789142,32.90420244933813,-25.01450956754679)\n",
    "\n",
    "output_dir=r'.\\data' # folder to save data"
   ]
  },
  {
   "cell_type": "markdown",
   "metadata": {},
   "source": [
    "### Download daily data\n",
    "\n",
    "Note that daily data is only available for Level 1 Reference Evapotranspiration and Precipitation"
   ]
  },
  {
   "cell_type": "code",
   "execution_count": 3,
   "metadata": {},
   "outputs": [
    {
     "name": "stdout",
     "output_type": "stream",
     "text": [
      "\n",
      "Download WaPOR Level 1 dekadal RET data for the period 2009-01-01 till 2009-01-31\n",
      "Loading WaPOR catalog...\n",
      "Loading WaPOR catalog...Done\n",
      "Progress: |██████████████████████████████████████████████████| 100.0% Complete\n"
     ]
    },
    {
     "data": {
      "text/plain": [
       "'.\\\\data\\\\WAPOR.v2_daily_L1_RET_E'"
      ]
     },
     "execution_count": 3,
     "metadata": {},
     "output_type": "execute_result"
    }
   ],
   "source": [
    "WaPOR.download_daily(output_dir, \n",
    "                       data='RET',\n",
    "                       Startdate='2009-01-01', \n",
    "                       Enddate='2009-01-31',\n",
    "                       latlim=[ymin-0.5, ymax+0.5], \n",
    "                       lonlim=[xmin-0.5, xmax+0.5],\n",
    "                       level=1,                    \n",
    "                       )"
   ]
  },
  {
   "cell_type": "markdown",
   "metadata": {},
   "source": [
    "### Download dekadal data\n",
    "\n",
    "\n",
    "<div class='alert alert-block alert-info'> \n",
    "    <b>Note:</b>    \n",
    "    <br>\n",
    "The unit of dekadal dataset will be converted to quantity/dekad instead of average daily quantity/day\n",
    "    </div>"
   ]
  },
  {
   "cell_type": "code",
   "execution_count": 4,
   "metadata": {},
   "outputs": [
    {
     "name": "stdout",
     "output_type": "stream",
     "text": [
      "\n",
      "Download WaPOR Level 1 dekadal RET data for the period 2009-01-01 till 2009-12-31\n",
      "Progress: |██████████████████████████████████████████████████| 100.0% Complete\n"
     ]
    },
    {
     "data": {
      "text/plain": [
       "'.\\\\data\\\\WAPOR.v2_dekadal_L1_RET_D'"
      ]
     },
     "execution_count": 4,
     "metadata": {},
     "output_type": "execute_result"
    }
   ],
   "source": [
    "WaPOR.download_dekadal(output_dir, \n",
    "                       data='RET',\n",
    "                       Startdate='2009-01-01', \n",
    "                       Enddate='2009-12-31',\n",
    "                       latlim=[ymin-0.5, ymax+0.5], \n",
    "                       lonlim=[xmin-0.5, xmax+0.5],\n",
    "                       level=1, \n",
    "                       )"
   ]
  },
  {
   "cell_type": "markdown",
   "metadata": {},
   "source": [
    "### Download monthly data"
   ]
  },
  {
   "cell_type": "code",
   "execution_count": 5,
   "metadata": {},
   "outputs": [
    {
     "name": "stdout",
     "output_type": "stream",
     "text": [
      "\n",
      "Download WaPOR Level 1 monthly RET data for the period 2009-01-01 till 2009-12-31\n",
      "Loading WaPOR catalog...\n",
      "Loading WaPOR catalog...Done\n",
      "Progress: |██████████████████████████████████████████████████| 100.0% Complete\n"
     ]
    },
    {
     "data": {
      "text/plain": [
       "'.\\\\data\\\\WAPOR.v2_monthly_L1_RET_M'"
      ]
     },
     "execution_count": 5,
     "metadata": {},
     "output_type": "execute_result"
    }
   ],
   "source": [
    "WaPOR.download_monthly(output_dir, \n",
    "                       data='RET',\n",
    "                       Startdate='2009-01-01', \n",
    "                       Enddate='2009-12-31', \n",
    "                       latlim=[ymin-0.5, ymax+0.5], \n",
    "                       lonlim=[xmin-0.5, xmax+0.5],\n",
    "                       level=1, \n",
    "                       )"
   ]
  },
  {
   "cell_type": "markdown",
   "metadata": {},
   "source": [
    "### Download yearly data"
   ]
  },
  {
   "cell_type": "code",
   "execution_count": 6,
   "metadata": {},
   "outputs": [
    {
     "name": "stdout",
     "output_type": "stream",
     "text": [
      "\n",
      "Download WaPOR Level 1 yearly RET data for the period 2009-01-01 till 2009-12-31\n",
      "Loading WaPOR catalog...\n",
      "Loading WaPOR catalog...Done\n",
      "Progress: |██████████████████████████████████████████████████| 100.0% Complete\n"
     ]
    },
    {
     "data": {
      "text/plain": [
       "'.\\\\data\\\\WAPOR.v2_yearly_L1_RET_A'"
      ]
     },
     "execution_count": 6,
     "metadata": {},
     "output_type": "execute_result"
    }
   ],
   "source": [
    "WaPOR.download_yearly(output_dir, \n",
    "                       data='RET',\n",
    "                       Startdate='2009-01-01', \n",
    "                       Enddate='2009-12-31',\n",
    "                       latlim=[ymin-0.5, ymax+0.5], \n",
    "                       lonlim=[xmin-0.5, xmax+0.5],\n",
    "                       level=1, \n",
    "                       )"
   ]
  },
  {
   "cell_type": "markdown",
   "metadata": {},
   "source": [
    "### Download seasonal data\n",
    "\n",
    "**Note**: Seasonal data is only available for some layers (e.g. Gross Biomass Water Productivity, Phenology)"
   ]
  },
  {
   "cell_type": "code",
   "execution_count": 3,
   "metadata": {},
   "outputs": [
    {
     "name": "stdout",
     "output_type": "stream",
     "text": [
      "\n",
      "Download WaPOR Level 2 seasonal GBWP data for the period 2009-01-01 till 2010-12-31\n",
      "Loading WaPOR catalog...\n",
      "Loading WaPOR catalog...Done\n",
      "Progress: |██████████████████████████████████████████████████| 100.0% Complete\n",
      "\n",
      "Download WaPOR Level 2 seasonal PHE data for the period 2009-01-01 till 2010-12-31\n",
      "Loading WaPOR catalog...\n",
      "Loading WaPOR catalog...Done\n",
      "Progress: |██████████████████████████████████████████████████| 100.0% Complete\n"
     ]
    },
    {
     "data": {
      "text/plain": [
       "'.\\\\data\\\\WAPOR.v2_seasonal_L2_PHE_S'"
      ]
     },
     "execution_count": 3,
     "metadata": {},
     "output_type": "execute_result"
    }
   ],
   "source": [
    "WaPOR.download_seasonal(output_dir,\n",
    "                       data='GBWP',\n",
    "                       Startdate='2009-01-01',\n",
    "                       Enddate='2010-12-31',\n",
    "                       latlim=[ymin-0.5, ymax+0.5],\n",
    "                       lonlim=[xmin-0.5, xmax+0.5],\n",
    "                       level=2,\n",
    "                       )\n",
    "WaPOR.download_seasonal(output_dir,\n",
    "                       data='PHE',\n",
    "                       Startdate='2009-01-01',\n",
    "                       Enddate='2010-12-31',\n",
    "                       latlim=[ymin-0.5, ymax+0.5],\n",
    "                       lonlim=[xmin-0.5, xmax+0.5],\n",
    "                       level=2,\n",
    "                       )"
   ]
  },
  {
   "cell_type": "markdown",
   "metadata": {},
   "source": [
    "# Exercise\n",
    "\n",
    "Download Level 1 monthly Precipitation, Actual Evapotranspiration and Interception, and yearly Land cover classification from 2009 to 2010 for the area bounded by the shapefile \".\\data\\Awash_shapefile.shp\"\n",
    "\n",
    "Use the **WaPOR** module functions following the given examples."
   ]
  },
  {
   "cell_type": "code",
   "execution_count": null,
   "metadata": {},
   "outputs": [],
   "source": [
    "'''\n",
    "Write your code here\n",
    "'''"
   ]
  },
  {
   "cell_type": "markdown",
   "metadata": {},
   "source": [
    "<div class='alert alert-block alert-success'> \n",
    "<span style = “float:right;”> <a href = './2_Preprocess_WaPOR_data.ipynb'> Next notebook >> </a> </span>\n",
    "    </div>"
   ]
  }
 ],
 "metadata": {
  "kernelspec": {
   "display_name": "Python 3 (ipykernel)",
   "language": "python",
   "name": "python3"
  },
  "language_info": {
   "codemirror_mode": {
    "name": "ipython",
    "version": 3
   },
   "file_extension": ".py",
   "mimetype": "text/x-python",
   "name": "python",
   "nbconvert_exporter": "python",
   "pygments_lexer": "ipython3",
   "version": "3.7.13"
  }
 },
 "nbformat": 4,
 "nbformat_minor": 2
}
