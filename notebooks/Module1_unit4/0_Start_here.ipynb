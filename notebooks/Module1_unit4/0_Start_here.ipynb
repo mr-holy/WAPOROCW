{
 "cells": [
  {
   "cell_type": "markdown",
   "metadata": {},
   "source": [
    "# Readme\n",
    "\n",
    "The following notebooks are examples of how to use Python to download, preprocess, and analyse WaPOR data:\n",
    "\n",
    "* [1 Bulk download WaPOR data](1_Bulk_download_WaPOR_data.ipynb)\n",
    "* [2 Preprocess downloaded WaPOR data](2_Preprocess_WaPOR_data.ipynb)\n",
    "* [3 Analyse WaPOR data](3_Analyse_WaPOR_data.ipynb)\n",
    "\n",
    "You will need to install the following packages to run the notebooks:\n",
    "\n",
    "* requests\n",
    "* gdal\n",
    "* numpy\n",
    "* pandas\n",
    "* matplotlib\n",
    "* pyshp (shapefile)\n",
    "\n",
    "Check if these packages have been succesfully installed by running the code cell below. "
   ]
  },
  {
   "cell_type": "code",
   "execution_count": 1,
   "metadata": {},
   "outputs": [],
   "source": [
    "import requests\n",
    "import numpy\n",
    "import pandas\n",
    "import matplotlib\n",
    "import shapefile\n",
    "import gdal\n",
    "import osr\n",
    "import ogr"
   ]
  },
  {
   "cell_type": "markdown",
   "metadata": {},
   "source": [
    "<div class='alert alert-block alert-warning'> \n",
    "    \n",
    "If the cell above did not return any output, it means the packages are succesfully imported. \n",
    "    \n",
    "If a package is not installed, it would show the following error like the code cell below.  </div>"
   ]
  },
  {
   "cell_type": "code",
   "execution_count": 2,
   "metadata": {},
   "outputs": [
    {
     "ename": "ModuleNotFoundError",
     "evalue": "No module named 'notinstalledpackage'",
     "output_type": "error",
     "traceback": [
      "\u001b[1;31m---------------------------------------------------------------------------\u001b[0m",
      "\u001b[1;31mModuleNotFoundError\u001b[0m                       Traceback (most recent call last)",
      "\u001b[1;32m~\\AppData\\Local\\Temp\\ipykernel_22304\\1368035456.py\u001b[0m in \u001b[0;36m<module>\u001b[1;34m\u001b[0m\n\u001b[1;32m----> 1\u001b[1;33m \u001b[1;32mimport\u001b[0m \u001b[0mnotinstalledpackage\u001b[0m \u001b[1;31m#an example of a package that is not installed\u001b[0m\u001b[1;33m\u001b[0m\u001b[1;33m\u001b[0m\u001b[0m\n\u001b[0m",
      "\u001b[1;31mModuleNotFoundError\u001b[0m: No module named 'notinstalledpackage'"
     ]
    }
   ],
   "source": [
    "import notinstalledpackage #an example of a package that is not installed"
   ]
  },
  {
   "cell_type": "markdown",
   "metadata": {},
   "source": [
    "<div class='alert alert-block alert-info'> \n",
    "In this case of \"ModuleNotFoundError\" message, try <a href = 'https://ocw.un-ihe.org/mod/book/view.php?id=6539&chapterid=680'>these options to install the package</a> \n",
    "    </div>\n",
    "\n",
    "### Notes:\n",
    "\n",
    "<div class='alert alert-block alert-success'> \n",
    "    <b>osr</b> and <b>ogr</b> are installed once <b>gdal</b> is installed.\n",
    "    </div>"
   ]
  },
  {
   "cell_type": "markdown",
   "metadata": {},
   "source": [
    "# Get API Token\n",
    "\n",
    "In some notebooks, you are required to provide your WaPOR personal API key. This is the key for you to log in WaPOR server with your account instead of using password. You can generate one from WaPOR portal - profile page:\n",
    "\n",
    "\n",
    "![fig1](../img/fig1_get_api_key.gif)"
   ]
  },
  {
   "cell_type": "markdown",
   "metadata": {},
   "source": [
    "<div class='alert alert-block alert-success'> \n",
    "<span style = “float:right;”> <a href = './1_Bulk_download_WaPOR_data.ipynb'> Next notebook >> </a> </span>\n",
    "    </div>"
   ]
  }
 ],
 "metadata": {
  "kernelspec": {
   "display_name": "Python 3 (ipykernel)",
   "language": "python",
   "name": "python3"
  },
  "language_info": {
   "codemirror_mode": {
    "name": "ipython",
    "version": 3
   },
   "file_extension": ".py",
   "mimetype": "text/x-python",
   "name": "python",
   "nbconvert_exporter": "python",
   "pygments_lexer": "ipython3",
   "version": "3.7.13"
  }
 },
 "nbformat": 4,
 "nbformat_minor": 2
}
